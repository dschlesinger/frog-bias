{
 "cells": [
  {
   "cell_type": "markdown",
   "metadata": {},
   "source": [
    "## Random Forests predicting wealth from frog outfit\n",
    "\n",
    "#### 4 Tests\n",
    "\n",
    "Including Color\n",
    "1. Train on Pond Place validate on Frogtopia\n",
    "2. Train on Frogtopia validate on Pond Place\n",
    "\n",
    "Not Including Color\n",
    "3. Train on Pond Place validate on Frogtopia\n",
    "4. Train on Frogtopia validate on Pond Place"
   ]
  },
  {
   "cell_type": "code",
   "execution_count": null,
   "metadata": {
    "vscode": {
     "languageId": "plaintext"
    }
   },
   "outputs": [],
   "source": []
  }
 ],
 "metadata": {
  "language_info": {
   "name": "python"
  }
 },
 "nbformat": 4,
 "nbformat_minor": 2
}
