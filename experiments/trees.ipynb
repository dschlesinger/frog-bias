{
 "cells": [
  {
   "cell_type": "markdown",
   "metadata": {},
   "source": [
    "## Random Forests predicting wealth from frog outfit\n",
    "\n",
    "### 4 Tests\n",
    "\n",
    "#### Including Color\n",
    "1. Train on Pond Place Validate on Frogtopia\n",
    "2. Train on Frogtopia Validate on Pond Place\n",
    "\n",
    "#### Not Including Color\n",
    "3. Train on Pond Place Validate on Frogtopia\n",
    "4. Train on Frogtopia Validate on Pond Place\n"
   ]
  },
  {
   "cell_type": "code",
   "execution_count": 1,
   "metadata": {},
   "outputs": [],
   "source": [
    "root_dir: bool = False"
   ]
  },
  {
   "cell_type": "code",
   "execution_count": 2,
   "metadata": {},
   "outputs": [
    {
     "name": "stdout",
     "output_type": "stream",
     "text": [
      "\\frog-bias\n"
     ]
    }
   ],
   "source": [
    "# Set dir to root\n",
    "\n",
    "import os\n",
    "\n",
    "if not root_dir:\n",
    "    os.chdir('../')\n",
    "\n",
    "    # Obfuscate path till repo\n",
    "    print(\n",
    "        '\\\\frog-bias' + os.getcwd().split('frog-bias')[-1]\n",
    "    )\n",
    "\n",
    "    root_dir = True"
   ]
  },
  {
   "cell_type": "code",
   "execution_count": 3,
   "metadata": {},
   "outputs": [],
   "source": [
    "from utils.trees import TreeTools\n",
    "from utils.misc_tools import rank_features"
   ]
  },
  {
   "cell_type": "markdown",
   "metadata": {},
   "source": [
    "## Including Group"
   ]
  },
  {
   "cell_type": "code",
   "execution_count": 4,
   "metadata": {},
   "outputs": [
    {
     "name": "stdout",
     "output_type": "stream",
     "text": [
      "MSE Testing: 0.0117\n",
      "MSE Validation: 0.0783\n",
      "MSE Difference: \u001b[31m0.0666\u001b[0m\n",
      "\n",
      "Features Ranked by Importance\n",
      "\u001b[33mGroup_Red: 0.8204489323345592\u001b[0m\n",
      "Glasses_Spectacle: 0.03504088543434237\n",
      "Clothes Color_Purple: 0.02894056828455435\n",
      "Canes_Oak: 0.021364406038117942\n",
      "Hat_Scally Cap: 0.02038938921099962\n",
      "Clothes_Suit: 0.019260509300903124\n",
      "Hat_Top Hat: 0.013515321986795491\n",
      "Canes_Plywood: 0.012727658784106184\n",
      "Clothes_t-shirt: 0.011140629580510396\n",
      "Glasses_Round Eye: 0.010391123848265557\n",
      "Clothes Color_Grey: 0.006780575196845714\n"
     ]
    }
   ],
   "source": [
    "# 1. Including Group Train on Pond Place Validate on Frogtopia\n",
    "\n",
    "tree, feature_names, testing_mse, *_ = TreeTools.build_tree(city='Pond Place', include_group=True)\n",
    "\n",
    "y_true, y_pred, *mse_diff = TreeTools.validate_tree(tree, city='Frogtopia', include_group=True, testing_mse=testing_mse)\n",
    "\n",
    "rank_features(feature_names, tree.feature_importances_, highlight_group='Yellow')"
   ]
  },
  {
   "cell_type": "code",
   "execution_count": 5,
   "metadata": {},
   "outputs": [
    {
     "name": "stdout",
     "output_type": "stream",
     "text": [
      "MSE Testing: 0.0133\n",
      "MSE Validation: 0.0146\n",
      "MSE Difference: \u001b[32m0.0013\u001b[0m\n",
      "\n",
      "Features Ranked by Importance\n",
      "Hat_Scally Cap: 0.24183765004011173\n",
      "Clothes_t-shirt: 0.16005459874028372\n",
      "Clothes Color_Grey: 0.11762714253184281\n",
      "Canes_Plywood: 0.10517388754647347\n",
      "Glasses_Spectacle: 0.102028939020888\n",
      "Canes_Oak: 0.06661341410259411\n",
      "Glasses_Round Eye: 0.06240664306438643\n",
      "Clothes_Suit: 0.051722781415427424\n",
      "\u001b[33mGroup_Red: 0.0374055944476884\u001b[0m\n",
      "Clothes Color_Purple: 0.027862413908285984\n",
      "Hat_Top Hat: 0.02726693518201792\n"
     ]
    }
   ],
   "source": [
    "# 2. Including Group Train on Frogtopia Validate on Pond Place\n",
    "\n",
    "tree, feature_names, testing_mse, *_ = TreeTools.build_tree(city='Frogtopia', include_group=True)\n",
    "\n",
    "y_true, y_pred, *mse_diff = TreeTools.validate_tree(tree, city='Pond Place', include_group=True, testing_mse=testing_mse)\n",
    "\n",
    "rank_features(feature_names, tree.feature_importances_, highlight_group='Yellow')"
   ]
  },
  {
   "cell_type": "code",
   "execution_count": 6,
   "metadata": {},
   "outputs": [
    {
     "name": "stdout",
     "output_type": "stream",
     "text": [
      "S2: 1000\n",
      "MSE Testing: 0.012\n",
      "MSE Validation: 0.0134\n",
      "MSE Difference: \u001b[32m0.0014\u001b[0m\n"
     ]
    }
   ],
   "source": [
    "# Average the differences 1 & 2\n",
    "\n",
    "from IPython.display import clear_output\n",
    "\n",
    "n_iter: int = 1000\n",
    "\n",
    "s1 = {\n",
    "    'Group Importance': [],\n",
    "    'MSE Difference': [],\n",
    "}\n",
    "\n",
    "for i in range(n_iter):\n",
    "\n",
    "    while True: # Because of rare data gen error\n",
    "        \n",
    "        try:\n",
    "            # 1. Including Group Train on Pond Place Validate on Frogtopia\n",
    "\n",
    "            print(f'S1: {i + 1}')\n",
    "\n",
    "            tree, feature_names, testing_mse, *_ = TreeTools.build_tree(city='Pond Place', include_group=True, random_state=None)\n",
    "\n",
    "            y_true, y_pred, *mse_diff = TreeTools.validate_tree(tree, city='Frogtopia', include_group=True, testing_mse=testing_mse) # Not None for val\n",
    "\n",
    "            s1['MSE Difference'].append(mse_diff[0])\n",
    "\n",
    "            s1['Group Importance'].append(\n",
    "                tree.feature_importances_[\n",
    "                    list(feature_names).index('Group_Red')\n",
    "                ]\n",
    "            )\n",
    "\n",
    "            clear_output(wait=True)\n",
    "\n",
    "            # rank_features(feature_names, tree.feature_importances_, highlight_group='Yellow')\n",
    "\n",
    "            break\n",
    "\n",
    "        except:\n",
    "            pass\n",
    "\n",
    "s2 = {\n",
    "    'Group Importance': [],\n",
    "    'MSE Difference': [],\n",
    "}\n",
    "\n",
    "for i in range(n_iter):\n",
    "        \n",
    "    while True: # Because of rare data gen error\n",
    "        \n",
    "        try:\n",
    "\n",
    "            # 2. Including Group Train on Frogtopia Validate on Pond Place\n",
    "\n",
    "            print(f'S2: {i + 1}')\n",
    "\n",
    "            tree, feature_names, testing_mse, *_ = TreeTools.build_tree(city='Frogtopia', include_group=True, random_state=None)\n",
    "\n",
    "            y_true, y_pred, *mse_diff = TreeTools.validate_tree(tree, city='Pond Place', include_group=True, testing_mse=testing_mse) # Not None for val\n",
    "\n",
    "            s2['MSE Difference'].append(mse_diff[0])\n",
    "\n",
    "            s2['Group Importance'].append(\n",
    "                tree.feature_importances_[\n",
    "                    list(feature_names).index('Group_Red')\n",
    "                ]\n",
    "            )\n",
    "\n",
    "            clear_output(wait=True)\n",
    "\n",
    "            break\n",
    "\n",
    "            # rank_features(feature_names, tree.feature_importances_, highlight_group='Yellow')\n",
    "\n",
    "        except:\n",
    "\n",
    "            pass\n",
    "\n",
    "assert all(\n",
    "    map(\n",
    "        lambda a: a.__len__() == n_iter,\n",
    "        [*list(s1.values()), *list(s2.values())]\n",
    "    )\n",
    ")"
   ]
  },
  {
   "cell_type": "code",
   "execution_count": 7,
   "metadata": {},
   "outputs": [
    {
     "name": "stdout",
     "output_type": "stream",
     "text": [
      "\n",
      "\n",
      "S1 Average MSE Difference: \u001b[31m0.0554\u001b[0m\n",
      "S1 Average Group Importance: 0.7582\n",
      "S2 Average MSE Difference: \u001b[32m0.001\u001b[0m\n",
      "S2 Average Group Importance: 0.0241\n",
      "\n",
      "\n"
     ]
    }
   ],
   "source": [
    "# Results\n",
    "\n",
    "from utils.colors import mse_highlighter\n",
    "\n",
    "avg = lambda s: round(sum(s) / len(s), 4)\n",
    "\n",
    "print(f\"\"\"\n",
    "\n",
    "S1 Average MSE Difference: {mse_highlighter(avg(s1['MSE Difference']))}\n",
    "S1 Average Group Importance: {avg(s1['Group Importance'])}\n",
    "S2 Average MSE Difference: {mse_highlighter(avg(s2['MSE Difference']))}\n",
    "S2 Average Group Importance: {avg(s2['Group Importance'])}\n",
    "\n",
    "\"\"\")"
   ]
  },
  {
   "cell_type": "markdown",
   "metadata": {},
   "source": [
    "## Not Including Group"
   ]
  },
  {
   "cell_type": "code",
   "execution_count": 4,
   "metadata": {},
   "outputs": [
    {
     "name": "stdout",
     "output_type": "stream",
     "text": [
      "MSE Testing: 0.012\n",
      "MSE Validation: 0.0136\n",
      "MSE Difference: \u001b[32m0.0016\u001b[0m\n",
      "\n",
      "Features Ranked by Importance\n",
      "Hat_Scally Cap: 0.24784945209743445\n",
      "Clothes_t-shirt: 0.166071476213909\n",
      "Clothes Color_Grey: 0.1210089034308063\n",
      "Canes_Plywood: 0.10613662125107891\n",
      "Glasses_Spectacle: 0.10452713731338795\n",
      "Canes_Oak: 0.07383319225416635\n",
      "Glasses_Round Eye: 0.06459038899269165\n",
      "Clothes_Suit: 0.053850848338604554\n",
      "Hat_Top Hat: 0.03232118114383934\n",
      "Clothes Color_Purple: 0.029810798964081602\n"
     ]
    }
   ],
   "source": [
    "# 3. Not Including Group Train on Pond Place Validate on Frogtopia\n",
    "\n",
    "tree, feature_names, testing_mse, *_ = TreeTools.build_tree(city='Frogtopia', include_group=False)\n",
    "\n",
    "y_true, y_pred, *mse_diff = TreeTools.validate_tree(tree, city='Pond Place', include_group=False, testing_mse=testing_mse)\n",
    "\n",
    "rank_features(feature_names, tree.feature_importances_, highlight_group='Yellow')"
   ]
  },
  {
   "cell_type": "code",
   "execution_count": 5,
   "metadata": {},
   "outputs": [
    {
     "name": "stdout",
     "output_type": "stream",
     "text": [
      "MSE Testing: 0.0122\n",
      "MSE Validation: 0.0146\n",
      "MSE Difference: \u001b[32m0.0024\u001b[0m\n",
      "\n",
      "Features Ranked by Importance\n",
      "Clothes Color_Purple: 0.2706643425411469\n",
      "Clothes_t-shirt: 0.24457660142184928\n",
      "Glasses_Spectacle: 0.13345860802792917\n",
      "Hat_Scally Cap: 0.12622915976770668\n",
      "Clothes Color_Grey: 0.07706942688788175\n",
      "Canes_Plywood: 0.055829481579455935\n",
      "Clothes_Suit: 0.030869099694453648\n",
      "Canes_Oak: 0.027165639632145248\n",
      "Glasses_Round Eye: 0.018657302760499407\n",
      "Hat_Top Hat: 0.015480337686932044\n"
     ]
    }
   ],
   "source": [
    "# 4. Not Including Group Train on Frogtopia Validate on Pond Place\n",
    "\n",
    "tree, feature_names, testing_mse, *_ = TreeTools.build_tree(city='Pond Place', include_group=False)\n",
    "\n",
    "y_true, y_pred, *mse_diff = TreeTools.validate_tree(tree, city='Frogtopia', include_group=False, testing_mse=testing_mse)\n",
    "\n",
    "rank_features(feature_names, tree.feature_importances_, highlight_group='Yellow')"
   ]
  },
  {
   "cell_type": "code",
   "execution_count": 4,
   "metadata": {},
   "outputs": [
    {
     "name": "stdout",
     "output_type": "stream",
     "text": [
      "S4: 1000\n",
      "MSE Testing: 0.011\n",
      "MSE Validation: 0.015\n",
      "MSE Difference: \u001b[32m0.004\u001b[0m\n"
     ]
    }
   ],
   "source": [
    "# Average the differences 3 & 4\n",
    "\n",
    "from IPython.display import clear_output\n",
    "\n",
    "n_iter: int = 1000\n",
    "\n",
    "s3 = {\n",
    "    'MSE Difference': [],\n",
    "}\n",
    "\n",
    "for i in range(n_iter):\n",
    "\n",
    "    while True: # Because of rare data gen error\n",
    "        \n",
    "        try:\n",
    "\n",
    "            print(f'S3: {i + 1}')\n",
    "\n",
    "            # 3. Not Including Group Train on Pond Place Validate on Frogtopia\n",
    "\n",
    "            tree, feature_names, testing_mse, *_ = TreeTools.build_tree(city='Frogtopia', include_group=False, random_state=None)\n",
    "\n",
    "            y_true, y_pred, *mse_diff = TreeTools.validate_tree(tree, city='Pond Place', include_group=False, testing_mse=testing_mse)\n",
    "\n",
    "            s3['MSE Difference'].append(mse_diff[0])\n",
    "\n",
    "            clear_output(wait=True)\n",
    "\n",
    "            # rank_features(feature_names, tree.feature_importances_, highlight_group='Yellow')\n",
    "\n",
    "            break\n",
    "\n",
    "        except:\n",
    "            pass\n",
    "\n",
    "s4 = {\n",
    "    'MSE Difference': [],\n",
    "}\n",
    "\n",
    "for i in range(n_iter):\n",
    "        \n",
    "    while True: # Because of rare data gen error\n",
    "        \n",
    "        try:\n",
    "\n",
    "            print(f'S4: {i + 1}')\n",
    "\n",
    "            # 4. Not Including Group Train on Frogtopia Validate on Pond Place\n",
    "\n",
    "            tree, feature_names, testing_mse, *_ = TreeTools.build_tree(city='Pond Place', include_group=False, random_state=None)\n",
    "\n",
    "            y_true, y_pred, *mse_diff = TreeTools.validate_tree(tree, city='Frogtopia', include_group=False, testing_mse=testing_mse)\n",
    "\n",
    "            s4['MSE Difference'].append(mse_diff[0])\n",
    "\n",
    "            clear_output(wait=True)\n",
    "\n",
    "            break\n",
    "\n",
    "            # rank_features(feature_names, tree.feature_importances_, highlight_group='Yellow')\n",
    "\n",
    "        except:\n",
    "\n",
    "            pass\n",
    "\n",
    "assert all(\n",
    "    map(\n",
    "        lambda a: a.__len__() == n_iter,\n",
    "        [*list(s3.values()), *list(s4.values())]\n",
    "    )\n",
    ")"
   ]
  },
  {
   "cell_type": "code",
   "execution_count": 7,
   "metadata": {},
   "outputs": [
    {
     "name": "stdout",
     "output_type": "stream",
     "text": [
      "\n",
      "\n",
      "S3 Average MSE Difference: \u001b[32m0.0006\u001b[0m\n",
      "S4 Average MSE Difference: \u001b[32m0.0017\u001b[0m\n",
      "\n",
      "\n"
     ]
    }
   ],
   "source": [
    "# Results\n",
    "\n",
    "from utils.colors import mse_highlighter\n",
    "\n",
    "avg = lambda s: round(sum(s) / len(s), 4)\n",
    "\n",
    "print(f\"\"\"\n",
    "\n",
    "S3 Average MSE Difference: {mse_highlighter(avg(s3['MSE Difference']))}\n",
    "S4 Average MSE Difference: {mse_highlighter(avg(s4['MSE Difference']))}\n",
    "\n",
    "\"\"\")"
   ]
  }
 ],
 "metadata": {
  "kernelspec": {
   "display_name": ".venv",
   "language": "python",
   "name": "python3"
  },
  "language_info": {
   "codemirror_mode": {
    "name": "ipython",
    "version": 3
   },
   "file_extension": ".py",
   "mimetype": "text/x-python",
   "name": "python",
   "nbconvert_exporter": "python",
   "pygments_lexer": "ipython3",
   "version": "3.10.11"
  }
 },
 "nbformat": 4,
 "nbformat_minor": 2
}
