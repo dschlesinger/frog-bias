{
 "cells": [
  {
   "cell_type": "code",
   "execution_count": 1,
   "metadata": {},
   "outputs": [],
   "source": [
    "from utils.generate_data import DataGenerator"
   ]
  },
  {
   "cell_type": "code",
   "execution_count": 2,
   "metadata": {},
   "outputs": [
    {
     "name": "stderr",
     "output_type": "stream",
     "text": [
      "c:\\Users\\Theon\\Downloads\\frog-bias\\utils\\generate_data.py:130: FutureWarning: The behavior of DataFrame concatenation with empty or all-NA entries is deprecated. In a future version, this will no longer exclude empty or all-NA columns when determining the result dtypes. To retain the old behavior, exclude the relevant entries before the concat operation.\n",
      "  df = pd.concat(\n"
     ]
    }
   ],
   "source": [
    "df = DataGenerator.distribution(city='Pond Place')"
   ]
  },
  {
   "cell_type": "code",
   "execution_count": 3,
   "metadata": {},
   "outputs": [
    {
     "data": {
      "text/plain": [
       "Group  Clothes  Hat         Clothes Color  Canes    Glasses  \n",
       "Red    Robes    Crown       Purple         Ivory    Spectacle    13\n",
       "                            Blue           Ivory    Spectacle     6\n",
       "                            Purple         Ivory    Aviators      5\n",
       "                Scally Cap  Purple         Ivory    Spectacle     2\n",
       "                Crown       Purple         Oak      Aviators      2\n",
       "       Suit     Top Hat     Blue           Plywood  Aviators      2\n",
       "       Robes    Top Hat     Purple         Ivory    Spectacle     2\n",
       "                Crown       Blue           Ivory    Aviators      1\n",
       "                                           Oak      Spectacle     1\n",
       "                Top Hat     Blue           Oak      Aviators      1\n",
       "                Crown       Purple         Oak      Spectacle     1\n",
       "       Suit     Crown       Blue           Ivory    Spectacle     1\n",
       "       Robes    Top Hat     Purple         Ivory    Aviators      1\n",
       "       Suit     Crown       Purple         Ivory    Spectacle     1\n",
       "                Scally Cap  Purple         Ivory    Aviators      1\n",
       "                                           Plywood  Spectacle     1\n",
       "                Top Hat     Blue           Oak      Aviators      1\n",
       "                            Grey           Oak      Spectacle     1\n",
       "                            Purple         Ivory    Aviators      1\n",
       "                                                    Spectacle     1\n",
       "                                           Oak      Aviators      1\n",
       "                                                    Round Eye     1\n",
       "       t-shirt  Crown       Blue           Oak      Aviators      1\n",
       "                Scally Cap  Grey           Plywood  Aviators      1\n",
       "                Top Hat     Purple         Ivory    Round Eye     1\n",
       "Name: count, dtype: int64"
      ]
     },
     "execution_count": 3,
     "metadata": {},
     "output_type": "execute_result"
    }
   ],
   "source": [
    "df[df['Group'] == 'Red'].drop('Wealth', axis=1).value_counts()"
   ]
  },
  {
   "cell_type": "code",
   "execution_count": 32,
   "metadata": {},
   "outputs": [
    {
     "data": {
      "text/plain": [
       "('Robes', 'Crown', 'Purple')"
      ]
     },
     "execution_count": 32,
     "metadata": {},
     "output_type": "execute_result"
    }
   ],
   "source": [
    "DataGenerator.get_outfit(wealth=0.9)"
   ]
  }
 ],
 "metadata": {
  "kernelspec": {
   "display_name": ".venv",
   "language": "python",
   "name": "python3"
  },
  "language_info": {
   "codemirror_mode": {
    "name": "ipython",
    "version": 3
   },
   "file_extension": ".py",
   "mimetype": "text/x-python",
   "name": "python",
   "nbconvert_exporter": "python",
   "pygments_lexer": "ipython3",
   "version": "3.10.11"
  }
 },
 "nbformat": 4,
 "nbformat_minor": 2
}
